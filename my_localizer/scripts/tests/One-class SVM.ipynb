{
 "cells": [
  {
   "cell_type": "markdown",
   "metadata": {},
   "source": [
    "# Tests to see how SVM model works"
   ]
  },
  {
   "cell_type": "code",
   "execution_count": 1,
   "metadata": {
    "collapsed": false
   },
   "outputs": [
    {
     "name": "stdout",
     "output_type": "stream",
     "text": [
      "Automatically created module for IPython interactive environment\n"
     ]
    }
   ],
   "source": [
    "print(__doc__)\n",
    "\n",
    "import numpy as np\n",
    "import matplotlib.pyplot as plt\n",
    "import matplotlib.font_manager\n",
    "from sklearn.svm import OneClassSVM"
   ]
  },
  {
   "cell_type": "code",
   "execution_count": 2,
   "metadata": {
    "collapsed": false
   },
   "outputs": [
    {
     "data": {
      "text/plain": [
       "(array([[-5.        , -4.97995992, -4.95991984, ...,  4.95991984,\n",
       "          4.97995992,  5.        ],\n",
       "        [-5.        , -4.97995992, -4.95991984, ...,  4.95991984,\n",
       "          4.97995992,  5.        ],\n",
       "        [-5.        , -4.97995992, -4.95991984, ...,  4.95991984,\n",
       "          4.97995992,  5.        ],\n",
       "        ..., \n",
       "        [-5.        , -4.97995992, -4.95991984, ...,  4.95991984,\n",
       "          4.97995992,  5.        ],\n",
       "        [-5.        , -4.97995992, -4.95991984, ...,  4.95991984,\n",
       "          4.97995992,  5.        ],\n",
       "        [-5.        , -4.97995992, -4.95991984, ...,  4.95991984,\n",
       "          4.97995992,  5.        ]]),\n",
       " array([[-5.        , -5.        , -5.        , ..., -5.        ,\n",
       "         -5.        , -5.        ],\n",
       "        [-4.97995992, -4.97995992, -4.97995992, ..., -4.97995992,\n",
       "         -4.97995992, -4.97995992],\n",
       "        [-4.95991984, -4.95991984, -4.95991984, ..., -4.95991984,\n",
       "         -4.95991984, -4.95991984],\n",
       "        ..., \n",
       "        [ 4.95991984,  4.95991984,  4.95991984, ...,  4.95991984,\n",
       "          4.95991984,  4.95991984],\n",
       "        [ 4.97995992,  4.97995992,  4.97995992, ...,  4.97995992,\n",
       "          4.97995992,  4.97995992],\n",
       "        [ 5.        ,  5.        ,  5.        , ...,  5.        ,\n",
       "          5.        ,  5.        ]]))"
      ]
     },
     "execution_count": 2,
     "metadata": {},
     "output_type": "execute_result"
    }
   ],
   "source": [
    "xx, yy = np.meshgrid(np.linspace(-5, 5, 500), np.linspace(-5, 5, 500))\n",
    "xx, yy"
   ]
  },
  {
   "cell_type": "code",
   "execution_count": 3,
   "metadata": {
    "collapsed": false
   },
   "outputs": [
    {
     "data": {
      "text/plain": [
       "array([[ 2.00143858,  1.85441269],\n",
       "       [ 2.49580337,  2.07030641],\n",
       "       [ 1.72728146,  2.05291543],\n",
       "       [ 2.19708036,  1.84513286],\n",
       "       [ 2.05315937,  2.24981285],\n",
       "       [ 2.01045498,  2.32439043],\n",
       "       [ 1.76676379,  2.21002988],\n",
       "       [ 2.19787344,  1.53061523],\n",
       "       [ 1.57911372,  2.06142942],\n",
       "       [ 1.93265093,  1.84343441],\n",
       "       [ 2.02208754,  1.8342356 ],\n",
       "       [ 2.30006883,  2.15976779],\n",
       "       [ 2.59530094,  2.3977818 ],\n",
       "       [ 1.87252037,  1.80401317],\n",
       "       [ 2.10923167,  2.34794131],\n",
       "       [ 2.0097451 ,  1.79246163],\n",
       "       [ 2.10788078,  1.73765226],\n",
       "       [ 1.87724773,  1.96537885],\n",
       "       [ 1.99232206,  1.84831168],\n",
       "       [ 2.01881649,  1.92771565],\n",
       "       [ 1.94674655,  1.78248772],\n",
       "       [ 1.64979413,  1.79651975],\n",
       "       [ 2.09593553,  1.74318249],\n",
       "       [ 1.87503396,  1.85427457],\n",
       "       [ 1.99001326,  2.02625423],\n",
       "       [ 2.21040895,  2.28435562],\n",
       "       [ 2.00433408,  2.15660193],\n",
       "       [ 2.39466529,  1.61503427],\n",
       "       [ 2.44566363,  2.01737609],\n",
       "       [ 1.99717076,  2.12971481],\n",
       "       [ 2.01069118,  2.17714962],\n",
       "       [ 1.68006662,  2.19954967],\n",
       "       [ 1.86947488,  1.63645319],\n",
       "       [ 1.79433811,  2.02880324],\n",
       "       [ 2.1329357 ,  1.8364121 ],\n",
       "       [ 2.33276088,  2.17524981],\n",
       "       [ 1.68023698,  2.29380772],\n",
       "       [ 2.14444223,  2.07816751],\n",
       "       [ 2.19171331,  1.55160043],\n",
       "       [ 2.17714748,  2.09599839],\n",
       "       [ 1.83161407,  1.66993966],\n",
       "       [ 2.15858489,  1.6716677 ],\n",
       "       [ 2.08206889,  2.2737138 ],\n",
       "       [ 1.80949911,  1.92481533],\n",
       "       [ 0.86230565,  1.86107042],\n",
       "       [ 1.97197601,  2.19778993],\n",
       "       [ 1.8661101 ,  2.06968595],\n",
       "       [ 2.2695942 ,  2.21191477],\n",
       "       [ 1.91027578,  2.0510575 ],\n",
       "       [ 1.49350718,  2.22510273],\n",
       "       [ 1.6564965 ,  2.13966721],\n",
       "       [ 1.92896459,  1.47381336],\n",
       "       [ 1.64601933,  2.31272326],\n",
       "       [ 1.66471658,  1.446163  ],\n",
       "       [ 2.5163755 ,  1.87025741],\n",
       "       [ 2.57442326,  1.49759772],\n",
       "       [ 1.37260459,  2.10936531],\n",
       "       [ 2.38527567,  2.58786225],\n",
       "       [ 1.64041508,  1.77762451],\n",
       "       [ 1.87091129,  1.846544  ],\n",
       "       [ 1.8867033 ,  1.85025182],\n",
       "       [ 2.23338435,  2.00323158],\n",
       "       [ 2.31870669,  2.34568695],\n",
       "       [ 2.14791604,  2.0900216 ],\n",
       "       [ 1.73587389,  2.14054736],\n",
       "       [ 2.61627232,  2.27953106],\n",
       "       [ 1.90288071,  2.48439312],\n",
       "       [ 1.92728744,  2.53075632],\n",
       "       [ 2.23550128,  2.5300524 ],\n",
       "       [ 1.8774774 ,  1.66387407],\n",
       "       [ 2.03855335,  1.78996725],\n",
       "       [ 1.97002678,  1.79420129],\n",
       "       [ 1.74918892,  2.2180827 ],\n",
       "       [ 1.74935462,  2.39318309],\n",
       "       [ 2.2508983 ,  1.40487708],\n",
       "       [ 1.88437894,  2.49499624],\n",
       "       [ 2.1948502 ,  2.62147512],\n",
       "       [ 2.05330866,  2.1241947 ],\n",
       "       [ 2.56351271,  1.88013104],\n",
       "       [ 2.29619034,  1.97678167],\n",
       "       [ 1.48835826,  2.07404724],\n",
       "       [ 2.03700279,  1.97969968],\n",
       "       [ 1.95294543,  2.34600725],\n",
       "       [ 2.08744738,  2.05959432],\n",
       "       [ 1.93648206,  2.4514305 ],\n",
       "       [ 2.27745371,  2.06738754],\n",
       "       [ 2.32980968,  2.32139396],\n",
       "       [ 2.42058237,  1.90760104],\n",
       "       [ 1.94326225,  2.14272638],\n",
       "       [ 1.51607712,  1.90020646],\n",
       "       [ 1.77247453,  2.37963047],\n",
       "       [ 2.25953459,  2.049405  ],\n",
       "       [ 1.97191556,  1.97109428],\n",
       "       [ 1.562189  ,  1.79904975],\n",
       "       [ 2.9202072 ,  1.78676114],\n",
       "       [ 2.25170944,  2.25776062],\n",
       "       [ 2.1090677 ,  1.85747952],\n",
       "       [ 1.93520995,  1.84816935],\n",
       "       [ 1.89053511,  1.79289366],\n",
       "       [ 2.2865795 ,  1.36176207],\n",
       "       [-1.99856142, -2.14558731],\n",
       "       [-1.50419663, -1.92969359],\n",
       "       [-2.27271854, -1.94708457],\n",
       "       [-1.80291964, -2.15486714],\n",
       "       [-1.94684063, -1.75018715],\n",
       "       [-1.98954502, -1.67560957],\n",
       "       [-2.23323621, -1.78997012],\n",
       "       [-1.80212656, -2.46938477],\n",
       "       [-2.42088628, -1.93857058],\n",
       "       [-2.06734907, -2.15656559],\n",
       "       [-1.97791246, -2.1657644 ],\n",
       "       [-1.69993117, -1.84023221],\n",
       "       [-1.40469906, -1.6022182 ],\n",
       "       [-2.12747963, -2.19598683],\n",
       "       [-1.89076833, -1.65205869],\n",
       "       [-1.9902549 , -2.20753837],\n",
       "       [-1.89211922, -2.26234774],\n",
       "       [-2.12275227, -2.03462115],\n",
       "       [-2.00767794, -2.15168832],\n",
       "       [-1.98118351, -2.07228435],\n",
       "       [-2.05325345, -2.21751228],\n",
       "       [-2.35020587, -2.20348025],\n",
       "       [-1.90406447, -2.25681751],\n",
       "       [-2.12496604, -2.14572543],\n",
       "       [-2.00998674, -1.97374577],\n",
       "       [-1.78959105, -1.71564438],\n",
       "       [-1.99566592, -1.84339807],\n",
       "       [-1.60533471, -2.38496573],\n",
       "       [-1.55433637, -1.98262391],\n",
       "       [-2.00282924, -1.87028519],\n",
       "       [-1.98930882, -1.82285038],\n",
       "       [-2.31993338, -1.80045033],\n",
       "       [-2.13052512, -2.36354681],\n",
       "       [-2.20566189, -1.97119676],\n",
       "       [-1.8670643 , -2.1635879 ],\n",
       "       [-1.66723912, -1.82475019],\n",
       "       [-2.31976302, -1.70619228],\n",
       "       [-1.85555777, -1.92183249],\n",
       "       [-1.80828669, -2.44839957],\n",
       "       [-1.82285252, -1.90400161],\n",
       "       [-2.16838593, -2.33006034],\n",
       "       [-1.84141511, -2.3283323 ],\n",
       "       [-1.91793111, -1.7262862 ],\n",
       "       [-2.19050089, -2.07518467],\n",
       "       [-3.13769435, -2.13892958],\n",
       "       [-2.02802399, -1.80221007],\n",
       "       [-2.1338899 , -1.93031405],\n",
       "       [-1.7304058 , -1.78808523],\n",
       "       [-2.08972422, -1.9489425 ],\n",
       "       [-2.50649282, -1.77489727],\n",
       "       [-2.3435035 , -1.86033279],\n",
       "       [-2.07103541, -2.52618664],\n",
       "       [-2.35398067, -1.68727674],\n",
       "       [-2.33528342, -2.553837  ],\n",
       "       [-1.4836245 , -2.12974259],\n",
       "       [-1.42557674, -2.50240228],\n",
       "       [-2.62739541, -1.89063469],\n",
       "       [-1.61472433, -1.41213775],\n",
       "       [-2.35958492, -2.22237549],\n",
       "       [-2.12908871, -2.153456  ],\n",
       "       [-2.1132967 , -2.14974818],\n",
       "       [-1.76661565, -1.99676842],\n",
       "       [-1.68129331, -1.65431305],\n",
       "       [-1.85208396, -1.9099784 ],\n",
       "       [-2.26412611, -1.85945264],\n",
       "       [-1.38372768, -1.72046894],\n",
       "       [-2.09711929, -1.51560688],\n",
       "       [-2.07271256, -1.46924368],\n",
       "       [-1.76449872, -1.4699476 ],\n",
       "       [-2.1225226 , -2.33612593],\n",
       "       [-1.96144665, -2.21003275],\n",
       "       [-2.02997322, -2.20579871],\n",
       "       [-2.25081108, -1.7819173 ],\n",
       "       [-2.25064538, -1.60681691],\n",
       "       [-1.7491017 , -2.59512292],\n",
       "       [-2.11562106, -1.50500376],\n",
       "       [-1.8051498 , -1.37852488],\n",
       "       [-1.94669134, -1.8758053 ],\n",
       "       [-1.43648729, -2.11986896],\n",
       "       [-1.70380966, -2.02321833],\n",
       "       [-2.51164174, -1.92595276],\n",
       "       [-1.96299721, -2.02030032],\n",
       "       [-2.04705457, -1.65399275],\n",
       "       [-1.91255262, -1.94040568],\n",
       "       [-2.06351794, -1.5485695 ],\n",
       "       [-1.72254629, -1.93261246],\n",
       "       [-1.67019032, -1.67860604],\n",
       "       [-1.57941763, -2.09239896],\n",
       "       [-2.05673775, -1.85727362],\n",
       "       [-2.48392288, -2.09979354],\n",
       "       [-2.22752547, -1.62036953],\n",
       "       [-1.74046541, -1.950595  ],\n",
       "       [-2.02808444, -2.02890572],\n",
       "       [-2.437811  , -2.20095025],\n",
       "       [-1.0797928 , -2.21323886],\n",
       "       [-1.74829056, -1.74223938],\n",
       "       [-1.8909323 , -2.14252048],\n",
       "       [-2.06479005, -2.15183065],\n",
       "       [-2.10946489, -2.20710634],\n",
       "       [-1.7134205 , -2.63823793]])"
      ]
     },
     "execution_count": 3,
     "metadata": {},
     "output_type": "execute_result"
    }
   ],
   "source": [
    "# Generate train data\n",
    "X = 0.3 * np.random.randn(100, 2)\n",
    "X_train = np.r_[X + 2, X - 2]\n",
    "X_train"
   ]
  },
  {
   "cell_type": "code",
   "execution_count": 4,
   "metadata": {
    "collapsed": false
   },
   "outputs": [
    {
     "data": {
      "text/plain": [
       "array([[ 2.08170238,  1.83572948],\n",
       "       [ 2.01361797,  1.60037572],\n",
       "       [ 1.98438684,  1.75388412],\n",
       "       [ 2.25992509,  2.1375454 ],\n",
       "       [ 2.11713011,  1.99411984],\n",
       "       [ 1.8828007 ,  2.4399905 ],\n",
       "       [ 1.94004492,  2.21487242],\n",
       "       [ 2.1537405 ,  1.6884305 ],\n",
       "       [ 2.00357672,  2.10767183],\n",
       "       [ 2.45814084,  1.87355689],\n",
       "       [ 2.01080943,  1.82960058],\n",
       "       [ 1.81114106,  2.62182307],\n",
       "       [ 2.13524606,  2.21380633],\n",
       "       [ 2.07196137,  2.33693435],\n",
       "       [ 2.13477879,  1.99212249],\n",
       "       [ 2.13148381,  2.09293544],\n",
       "       [ 1.5289435 ,  2.14785042],\n",
       "       [ 1.79633141,  1.56102267],\n",
       "       [ 1.65038411,  2.27838281],\n",
       "       [ 1.82525716,  1.80830626],\n",
       "       [-1.91829762, -2.16427052],\n",
       "       [-1.98638203, -2.39962428],\n",
       "       [-2.01561316, -2.24611588],\n",
       "       [-1.74007491, -1.8624546 ],\n",
       "       [-1.88286989, -2.00588016],\n",
       "       [-2.1171993 , -1.5600095 ],\n",
       "       [-2.05995508, -1.78512758],\n",
       "       [-1.8462595 , -2.3115695 ],\n",
       "       [-1.99642328, -1.89232817],\n",
       "       [-1.54185916, -2.12644311],\n",
       "       [-1.98919057, -2.17039942],\n",
       "       [-2.18885894, -1.37817693],\n",
       "       [-1.86475394, -1.78619367],\n",
       "       [-1.92803863, -1.66306565],\n",
       "       [-1.86522121, -2.00787751],\n",
       "       [-1.86851619, -1.90706456],\n",
       "       [-2.4710565 , -1.85214958],\n",
       "       [-2.20366859, -2.43897733],\n",
       "       [-2.34961589, -1.72161719],\n",
       "       [-2.17474284, -2.19169374]])"
      ]
     },
     "execution_count": 4,
     "metadata": {},
     "output_type": "execute_result"
    }
   ],
   "source": [
    "# Generate some regular novel observations\n",
    "X = 0.3 * np.random.randn(20, 2)\n",
    "X_test = np.r_[X + 2, X - 2]\n",
    "X_test"
   ]
  },
  {
   "cell_type": "code",
   "execution_count": 5,
   "metadata": {
    "collapsed": false
   },
   "outputs": [
    {
     "data": {
      "text/plain": [
       "array([[  3.97395375e+00,   7.89768736e-01],\n",
       "       [  3.04887492e+00,   6.35924043e-01],\n",
       "       [  9.46335842e-01,   3.65812943e+00],\n",
       "       [  2.66372634e+00,  -1.07875123e+00],\n",
       "       [ -3.99004016e+00,  -8.37132776e-01],\n",
       "       [  1.00269113e-01,  -3.39199985e+00],\n",
       "       [  2.23210618e+00,  -1.85465002e+00],\n",
       "       [  7.37721299e-01,   3.07149083e+00],\n",
       "       [  4.64801512e-01,  -1.61675348e+00],\n",
       "       [ -1.35875949e+00,  -2.56486493e+00],\n",
       "       [ -1.87131427e+00,  -3.96269872e+00],\n",
       "       [  2.18231692e+00,  -3.53003556e+00],\n",
       "       [ -2.64257040e+00,   7.09151054e-01],\n",
       "       [  3.91525806e+00,   2.42041745e+00],\n",
       "       [  3.62724660e+00,  -3.99434511e+00],\n",
       "       [ -5.95938303e-01,  -1.84272436e-01],\n",
       "       [  1.14627202e+00,  -1.28728503e+00],\n",
       "       [  2.95183952e-01,  -2.45166033e-03],\n",
       "       [  2.16987542e+00,   1.92369235e+00],\n",
       "       [  1.69898741e+00,   3.48617839e-01]])"
      ]
     },
     "execution_count": 5,
     "metadata": {},
     "output_type": "execute_result"
    }
   ],
   "source": [
    "# Generate some abnormal novel observations\n",
    "X_outliers = np.random.uniform(low=-4, high=4, size=(20, 2))\n",
    "X_outliers"
   ]
  },
  {
   "cell_type": "code",
   "execution_count": 6,
   "metadata": {
    "collapsed": false
   },
   "outputs": [],
   "source": [
    "X_train = np.concatenate((X_train, X_outliers))"
   ]
  },
  {
   "cell_type": "code",
   "execution_count": 7,
   "metadata": {
    "collapsed": false
   },
   "outputs": [
    {
     "data": {
      "text/plain": [
       "OneClassSVM(cache_size=200, coef0=0.0, degree=3, gamma=0.1, kernel='rbf',\n",
       "      max_iter=-1, nu=0.2, random_state=None, shrinking=True, tol=0.001,\n",
       "      verbose=False)"
      ]
     },
     "execution_count": 7,
     "metadata": {},
     "output_type": "execute_result"
    }
   ],
   "source": [
    "# fit the model\n",
    "clf = OneClassSVM(nu=0.2, kernel=\"rbf\", gamma=0.1)\n",
    "clf.fit(X_train)"
   ]
  },
  {
   "cell_type": "code",
   "execution_count": 8,
   "metadata": {
    "collapsed": true
   },
   "outputs": [],
   "source": [
    "y_pred_train = clf.predict(X_train)\n",
    "y_pred_test = clf.predict(X_test)\n",
    "y_pred_outliers = clf.predict(X_outliers)"
   ]
  },
  {
   "cell_type": "code",
   "execution_count": null,
   "metadata": {
    "collapsed": false
   },
   "outputs": [],
   "source": []
  },
  {
   "cell_type": "code",
   "execution_count": null,
   "metadata": {
    "collapsed": true
   },
   "outputs": [],
   "source": []
  },
  {
   "cell_type": "code",
   "execution_count": 9,
   "metadata": {
    "collapsed": true
   },
   "outputs": [],
   "source": [
    "n_error_train = y_pred_train[y_pred_train == -1].size\n",
    "n_error_test = y_pred_test[y_pred_test == -1].size\n",
    "n_error_outliers = y_pred_outliers[y_pred_outliers == 1].size"
   ]
  },
  {
   "cell_type": "code",
   "execution_count": 12,
   "metadata": {
    "collapsed": false
   },
   "outputs": [
    {
     "data": {
      "image/png": "[encoded data removed]",
      "text/plain": [
       "<matplotlib.figure.Figure at 0x7f53b2a9b790>"
      ]
     },
     "metadata": {},
     "output_type": "display_data"
    }
   ],
   "source": [
    "# plot the line, the points, and the nearest vectors to the plane\n",
    "Z = clf.decision_function(np.c_[xx.ravel(), yy.ravel()])\n",
    "Z = Z.reshape(xx.shape)\n",
    "\n",
    "plt.title(\"Novelty Detection\")\n",
    "plt.contourf(xx, yy, Z, levels=np.linspace(Z.min(), 0, 7), cmap=plt.cm.PuBu)\n",
    "a = plt.contour(xx, yy, Z, levels=[0], linewidths=2, colors='darkred')\n",
    "plt.contourf(xx, yy, Z, levels=[0, Z.max()], colors='palevioletred')\n",
    "\n",
    "s = 40\n",
    "b1 = plt.scatter(X_train[:, 0], X_train[:, 1], c='white', s=s)\n",
    "b2 = plt.scatter(X_test[:, 0], X_test[:, 1], c='blueviolet', s=s)\n",
    "# c = plt.scatter(X_outliers[:, 0], X_outliers[:, 1], c='gold', s=s)\n",
    "plt.axis('tight')\n",
    "plt.xlim((-5, 5))\n",
    "plt.ylim((-5, 5))\n",
    "plt.legend([a.collections[0], b1, b2, c],\n",
    "           [\"learned frontier\", \"training observations\",\n",
    "            \"new regular observations\", \"new abnormal observations\"],\n",
    "           loc=\"upper left\",\n",
    "           prop=matplotlib.font_manager.FontProperties(size=11))\n",
    "plt.xlabel(\n",
    "    \"error train: %d/200 ; errors novel regular: %d/40 ; \"\n",
    "    \"errors novel abnormal: %d/40\"\n",
    "    % (n_error_train, n_error_test, n_error_outliers))\n",
    "plt.show()"
   ]
  },
  {
   "cell_type": "markdown",
   "metadata": {},
   "source": [
    "# Now make our model"
   ]
  },
  {
   "cell_type": "code",
   "execution_count": 13,
   "metadata": {
    "collapsed": false
   },
   "outputs": [
    {
     "ename": "NameError",
     "evalue": "name 'self' is not defined",
     "output_type": "error",
     "traceback": [
      "\u001b[0;31m---------------------------------------------------------------------------\u001b[0m",
      "\u001b[0;31mNameError\u001b[0m                                 Traceback (most recent call last)",
      "\u001b[0;32m<ipython-input-13-5849089d0cf5>\u001b[0m in \u001b[0;36m<module>\u001b[0;34m()\u001b[0m\n\u001b[1;32m      1\u001b[0m \u001b[0;31m# First format training data\u001b[0m\u001b[0;34m\u001b[0m\u001b[0;34m\u001b[0m\u001b[0m\n\u001b[0;32m----> 2\u001b[0;31m \u001b[0mx\u001b[0m \u001b[0;34m=\u001b[0m \u001b[0;34m[\u001b[0m\u001b[0mp\u001b[0m\u001b[0;34m.\u001b[0m\u001b[0mx\u001b[0m \u001b[0;32mfor\u001b[0m \u001b[0mp\u001b[0m \u001b[0;32min\u001b[0m \u001b[0mself\u001b[0m\u001b[0;34m.\u001b[0m\u001b[0mparticle_cloud\u001b[0m\u001b[0;34m]\u001b[0m\u001b[0;34m\u001b[0m\u001b[0m\n\u001b[0m\u001b[1;32m      3\u001b[0m \u001b[0my\u001b[0m \u001b[0;34m=\u001b[0m \u001b[0;34m[\u001b[0m\u001b[0mp\u001b[0m\u001b[0;34m.\u001b[0m\u001b[0my\u001b[0m \u001b[0;32mfor\u001b[0m \u001b[0mp\u001b[0m \u001b[0;32min\u001b[0m \u001b[0mself\u001b[0m\u001b[0;34m.\u001b[0m\u001b[0mparticle_cloud\u001b[0m\u001b[0;34m]\u001b[0m\u001b[0;34m\u001b[0m\u001b[0m\n\u001b[1;32m      4\u001b[0m \u001b[0mX_train\u001b[0m \u001b[0;34m=\u001b[0m \u001b[0mnp\u001b[0m\u001b[0;34m.\u001b[0m\u001b[0marray\u001b[0m\u001b[0;34m(\u001b[0m\u001b[0mzip\u001b[0m\u001b[0;34m(\u001b[0m\u001b[0mx\u001b[0m\u001b[0;34m,\u001b[0m \u001b[0my\u001b[0m\u001b[0;34m)\u001b[0m\u001b[0;34m)\u001b[0m\u001b[0;34m\u001b[0m\u001b[0m\n\u001b[1;32m      5\u001b[0m \u001b[0;34m\u001b[0m\u001b[0m\n",
      "\u001b[0;31mNameError\u001b[0m: name 'self' is not defined"
     ]
    }
   ],
   "source": [
    "# First format training data\n",
    "x = [p.x for p in self.particle_cloud]\n",
    "y = [p.y for p in self.particle_cloud]\n",
    "X_train = np.array(zip(x, y))\n",
    "\n",
    "# Next make unsupervised outlier detection model\n",
    "# We have chosen to use OneClassSVM\n",
    "clf = OneClassSVM(nu=0.3, kernel=\"rbf\", gamma=0.1)\n",
    "clf.fit(X_train)\n",
    "\n",
    "# Predict inliers and outliers\n",
    "y_pred_train = clf.predict(X_train)\n",
    "\n",
    "# Create inlier and outlier particle lists\n",
    "inliers = []\n",
    "outliers = []\n",
    "\n",
    "# Iterate through particles and predictions to populate lists\n",
    "for p, pred in zip(self.particle_cloud, y_pred_train):\n",
    "    if pred == 1:\n",
    "        inliers.append(p)\n",
    "    elif pred == -1:\n",
    "        outliers.append(p)\n",
    "\n",
    "return inliers, outliers"
   ]
  },
  {
   "cell_type": "code",
   "execution_count": null,
   "metadata": {
    "collapsed": true
   },
   "outputs": [],
   "source": []
  },
  {
   "cell_type": "code",
   "execution_count": null,
   "metadata": {
    "collapsed": true
   },
   "outputs": [],
   "source": []
  }
 ],
 "metadata": {
  "kernelspec": {
   "display_name": "Python 2",
   "language": "python",
   "name": "python2"
  },
  "language_info": {
   "codemirror_mode": {
    "name": "ipython",
    "version": 2
   },
   "file_extension": ".py",
   "mimetype": "text/x-python",
   "name": "python",
   "nbconvert_exporter": "python",
   "pygments_lexer": "ipython2",
   "version": "2.7.12"
  }
 },
 "nbformat": 4,
 "nbformat_minor": 1
}
