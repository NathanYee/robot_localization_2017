{
 "cells": [
  {
   "cell_type": "code",
   "execution_count": null,
   "metadata": {
    "collapsed": true
   },
   "outputs": [],
   "source": [
    "    def update_robot_pose(self):\n",
    "        \"\"\" Update the estimate of the robot's pose given the updated particles.\n",
    "            There are three logical methods for this:\n",
    "                (1): compute the mean pose\n",
    "                (2): compute the most likely pose (i.e. the mode of the distribution)\n",
    "                (3): use clustering algorithms to find the cluster of highest weight\n",
    "\n",
    "            Our strategy is #2 to enable better tracking of unlikely particles in the future\n",
    "        \"\"\"\n",
    "        # first make sure that the particle weights are normalized\n",
    "        self.normalize_particles()\n",
    "\n",
    "        chosen_one = max(self.particle_cloud, key=lambda p: p.w)\n",
    "        #\n",
    "        # Using MeanShift scikit learn\n",
    "        x = [p.x for p in self.particle_cloud]\n",
    "        y = [p.y for p in self.particle_cloud]\n",
    "        weights = [p.w for p in self.particle_cloud]\n",
    "        X = np.array(zip(x, y))\n",
    "\n",
    "        bandwidth = estimate_bandwidth(X, quantile=0.2, n_samples=self.n_particles)\n",
    "        ms = MeanShift(bandwidth=bandwidth, bin_seeding=True)\n",
    "        ms.fit(X)\n",
    "        labels = ms.labels_\n",
    "        cluster_centers = ms.cluster_centers_\n",
    "\n",
    "        labels_unique = np.unique(labels)\n",
    "        n_clusters_ = len(labels_unique)\n",
    "\n",
    "        print(\"number of estimated clusters : %d\" % n_clusters_)\n",
    "\n",
    "        clusterWeights = {}\n",
    "        for lable in labels_unique:\n",
    "            clusterWeights[lable] = 0\n",
    "        for w, lable in zip(weights, labels):\n",
    "            clusterWeights[lable] += w\n",
    "\n",
    "        v = list(clusterWeights.values())\n",
    "        k = list(clusterWeights.keys())\n",
    "        cluster_centers[k[v.index(max(v))]]\n",
    "\n",
    "        # plt.figure(1)\n",
    "        # plt.clf()\n",
    "        #\n",
    "        # colors = cycle('bgrcmykbgrcmykbgrcmykbgrcmyk')\n",
    "        # for k, col in zip(range(n_clusters_), colors):\n",
    "        #     my_members = labels == k\n",
    "        #     cluster_center = cluster_centers[k]\n",
    "        #     plt.plot(X[my_members, 0], X[my_members, 1], col + '.')\n",
    "        #     plt.plot(cluster_center[0], cluster_center[1], 'o', markerfacecolor=col,\n",
    "        #              markeredgecolor='k', markersize=14)\n",
    "        # plt.title('Estimated number of clusters: %d' % n_clusters_)\n",
    "        # plt.show()\n",
    "\n",
    "        # TODO: assign the lastest pose into self.robot_pose as a geometry_msgs.Pose object\n",
    "        # just to get started we will fix the robot's pose to always be at the origin\n",
    "        self.robot_pose = chosen_one.as_pose()"
   ]
  }
 ],
 "metadata": {
  "kernelspec": {
   "display_name": "Python 2",
   "language": "python",
   "name": "python2"
  },
  "language_info": {
   "codemirror_mode": {
    "name": "ipython",
    "version": 2
   },
   "file_extension": ".py",
   "mimetype": "text/x-python",
   "name": "python",
   "nbconvert_exporter": "python",
   "pygments_lexer": "ipython2",
   "version": "2.7.12"
  }
 },
 "nbformat": 4,
 "nbformat_minor": 1
}
